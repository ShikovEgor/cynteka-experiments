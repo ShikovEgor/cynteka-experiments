{
 "cells": [
  {
   "cell_type": "code",
   "execution_count": 2,
   "metadata": {},
   "outputs": [
    {
     "name": "stderr",
     "output_type": "stream",
     "text": [
      "c:\\Users\\shiko\\anaconda3\\envs\\cynteka\\Lib\\site-packages\\sentence_transformers\\cross_encoder\\CrossEncoder.py:11: TqdmExperimentalWarning: Using `tqdm.autonotebook.tqdm` in notebook mode. Use `tqdm.tqdm` instead to force console mode (e.g. in jupyter console)\n",
      "  from tqdm.autonotebook import tqdm, trange\n"
     ]
    }
   ],
   "source": [
    "from sentence_transformers import SentenceTransformer\n",
    "from sentence_transformers.util import cos_sim, pairwise_cos_sim\n",
    "import numpy as np"
   ]
  },
  {
   "cell_type": "code",
   "execution_count": 3,
   "metadata": {},
   "outputs": [],
   "source": [
    "model = SentenceTransformer('intfloat/multilingual-e5-large-instruct')"
   ]
  },
  {
   "cell_type": "code",
   "execution_count": 13,
   "metadata": {},
   "outputs": [],
   "source": [
    "shet = [\"молоток\", \"кирпич\", \"плинтус 10\"]\n",
    "zayavka = [\"плинтус 10\", \"молоток с деревянной ручкой\",  \"плинтус 20\", \"кирпич силикатный\", \"плинтус 30\"]\n",
    "\n",
    "shet_instruction = (\n",
    "    \"Retrieve semantically similar names of building supplies and materials in Russian: \"\n",
    ")\n",
    "zayavka_instruction = \"Represent names of building supplies and materials in Russian for retrieval: \"\n",
    "\n",
    "zayavka_emb = model.encode(zayavka, prompt=zayavka_instruction)\n",
    "shet_emb = model.encode(shet, prompt=shet_instruction)\n",
    "# similarities = pairwise_cos_sim(zayavka_emb, shet_emb)\n",
    "# print(similarities)\n",
    "# => tensor([[0.8835, 0.7037, 0.6970]])"
   ]
  },
  {
   "cell_type": "code",
   "execution_count": 27,
   "metadata": {},
   "outputs": [
    {
     "name": "stdout",
     "output_type": "stream",
     "text": [
      "молоток молоток с деревянной ручкой\n",
      "кирпич кирпич силикатный\n",
      "плинтус 10 плинтус 10\n"
     ]
    }
   ],
   "source": [
    "scores = []\n",
    "for i,s_item_emb in enumerate(shet_emb):\n",
    "    sc = cos_sim(s_item_emb, zayavka_emb)\n",
    "    print(shet[i], zayavka[np.argmax(sc).item()])\n",
    "    scores.append(sc)"
   ]
  },
  {
   "cell_type": "code",
   "execution_count": 15,
   "metadata": {},
   "outputs": [
    {
     "data": {
      "text/plain": [
       "[tensor([[0.9073, 0.9555, 0.9058, 0.9161, 0.9060]]),\n",
       " tensor([[0.9096, 0.9064, 0.9082, 0.9594, 0.9079]]),\n",
       " tensor([[0.9823, 0.9004, 0.9580, 0.9172, 0.9588]])]"
      ]
     },
     "execution_count": 15,
     "metadata": {},
     "output_type": "execute_result"
    }
   ],
   "source": [
    "scores"
   ]
  },
  {
   "cell_type": "code",
   "execution_count": null,
   "metadata": {},
   "outputs": [],
   "source": []
  },
  {
   "cell_type": "code",
   "execution_count": 5,
   "metadata": {},
   "outputs": [
    {
     "name": "stdout",
     "output_type": "stream",
     "text": [
      "[\n",
      "    {\n",
      "        \"main_description\": \"Отвод 45 из оцинкованной стали\",\n",
      "        \"brand_or_specification\": null,\n",
      "        \"dimensional_parameters\": \"б=0,8мм 1200х400\",\n",
      "        \"other\": null\n",
      "    },\n",
      "    {\n",
      "        \"main_description\": \"Болгарка (УШМ)\",\n",
      "        \"brand_or_specification\": \"Makita 9558 HN 13535954\",\n",
      "        \"dimensional_parameters\": null,\n",
      "        \"other\": null\n",
      "    }\n",
      "]\n"
     ]
    }
   ],
   "source": [
    "from openai import OpenAI\n",
    "client = OpenAI(api_key =API_KEY)\n",
    "\n",
    "\n",
    "response = client.chat.completions.create(\n",
    "        model='gpt-4o',\n",
    "        messages=[\n",
    "            {\n",
    "                \"role\": \"system\",\n",
    "                \"content\": \"You are a data extraction tool that extracts product attributes from their Russian-language descriptions.\"\n",
    "            },\n",
    "            {\"role\": \"user\", \"content\": query}\n",
    "        ],\n",
    "        temperature=0,\n",
    "    )\n",
    "print(response.choices[0].message.content)"
   ]
  },
  {
   "cell_type": "code",
   "execution_count": 1,
   "metadata": {},
   "outputs": [
    {
     "name": "stdout",
     "output_type": "stream",
     "text": [
      "('I will provide you with a list of strings containing descriptions of the '\n",
      " 'building materials and supplies. Your goal is to extract structured '\n",
      " 'information from these strings that matches the form described below:\\n'\n",
      " '{\\n'\n",
      " 'main_description // text containing the product name.\\n'\n",
      " 'brand_or_specification // parameters describing the brand and/or '\n",
      " 'specification, but not the dimensions.\\n'\n",
      " 'dimensional_parameters // length, width, thickness, volume, etc.\\n'\n",
      " 'other // parameters that do not match any of the previous classes.\\n'\n",
      " '}\\n'\n",
      " '### Example:\\n'\n",
      " \"Input: ['Труба стальная электросварная прямошовная оцинкованная Ø76 x 3.5мм \"\n",
      " \"ГОСТ 10704-91', 'Маслоотделитель FP-OS-5,0-138 ФРИГОПОИНТ (шильда \"\n",
      " \"прикреплена)']\\n\"\n",
      " \"Output: [{'main_description': 'труба стальная электросварная прямошовная \"\n",
      " \"оцинкованная', 'brand_or_specification': 'ГОСТ 10704-91', \"\n",
      " \"'dimensional_parameters':  'Ø76 x 3.5мм', 'other': None}, \"\n",
      " \"{'main_description': 'Маслоотделитель', 'brand_or_specification': \"\n",
      " \"'FP-OS-5,0-138 ФРИГОПОИНТ', 'dimensional_parameters':  None, 'other': \"\n",
      " \"'(шильда прикреплена)'}]\\n\"\n",
      " '\\n'\n",
      " 'If there are no characters in the string that relate to a specific field, '\n",
      " 'then fill it with the value \"None\". Please output the extracted information '\n",
      " 'in JSON format. Do not output anything except for the extracted information. '\n",
      " 'Do not add any clarifying information. Do not add any fields that are not in '\n",
      " 'the schema. All output must be in JSON format and follow the schema '\n",
      " 'specified above. \\n'\n",
      " '###\\n'\n",
      " 'Extract the structural information from the following strings:\\n'\n",
      " \"['Отвод 45 из оцинкованной стали б=0,8мм 1200х400', 'Болгарка (УШМ) Makita \"\n",
      " \"9558 HN 13535954']\\n\")\n"
     ]
    }
   ],
   "source": [
    "from pprint import pprint\n",
    "test = ['Отвод 45 из оцинкованной стали б=0,8мм 1200х400','Болгарка (УШМ) Makita 9558 HN 13535954']\n",
    "query = f\"\"\"I will provide you with a list of strings containing descriptions of the building materials and supplies. Your goal is to extract structured information from these strings that matches the form described below:\n",
    "{{\n",
    "main_description // text containing the product name.\n",
    "brand_or_specification // parameters describing the brand and/or specification, but not the dimensions.\n",
    "dimensional_parameters // length, width, thickness, volume, etc.\n",
    "other // parameters that do not match any of the previous classes.\n",
    "}}\n",
    "### Example:\n",
    "Input: ['Труба стальная электросварная прямошовная оцинкованная Ø76 x 3.5мм ГОСТ 10704-91', 'Маслоотделитель FP-OS-5,0-138 ФРИГОПОИНТ (шильда прикреплена)']\n",
    "Output: [{{'main_description': 'труба стальная электросварная прямошовная оцинкованная', 'brand_or_specification': 'ГОСТ 10704-91', 'dimensional_parameters':  'Ø76 x 3.5мм', 'other': None}}, {{'main_description': 'Маслоотделитель', 'brand_or_specification': 'FP-OS-5,0-138 ФРИГОПОИНТ', 'dimensional_parameters':  None, 'other': '(шильда прикреплена)'}}]\n",
    "\n",
    "If there are no characters in the string that relate to a specific field, then fill it with the value \"None\". Please output the extracted information in JSON format. Do not output anything except for the extracted information. Do not add any clarifying information. Do not add any fields that are not in the schema. All output must be in JSON format and follow the schema specified above. \n",
    "###\n",
    "Extract the structural information from the following strings:\n",
    "{test}\n",
    "\"\"\"\n",
    "\n",
    "pprint(query)"
   ]
  },
  {
   "cell_type": "code",
   "execution_count": null,
   "metadata": {},
   "outputs": [],
   "source": []
  }
 ],
 "metadata": {
  "kernelspec": {
   "display_name": "cynteka",
   "language": "python",
   "name": "python3"
  },
  "language_info": {
   "codemirror_mode": {
    "name": "ipython",
    "version": 3
   },
   "file_extension": ".py",
   "mimetype": "text/x-python",
   "name": "python",
   "nbconvert_exporter": "python",
   "pygments_lexer": "ipython3",
   "version": "3.11.9"
  }
 },
 "nbformat": 4,
 "nbformat_minor": 2
}
